{
  "nbformat": 4,
  "nbformat_minor": 0,
  "metadata": {
    "colab": {
      "name": "線形回帰.ipynb",
      "provenance": [],
      "collapsed_sections": [],
      "mount_file_id": "18fHrDFTRQaX_EGIcHnk_ub3LqImJMt_2",
      "authorship_tag": "ABX9TyMta0JrQ98gDpi48nd/jKKz",
      "include_colab_link": true
    },
    "kernelspec": {
      "name": "python3",
      "display_name": "Python 3"
    }
  },
  "cells": [
    {
      "cell_type": "markdown",
      "metadata": {
        "id": "view-in-github",
        "colab_type": "text"
      },
      "source": [
        "<a href=\"https://colab.research.google.com/github/git-cat-meow/study/blob/master/%E7%B7%9A%E5%BD%A2%E5%9B%9E%E5%B8%B0.ipynb\" target=\"_parent\"><img src=\"https://colab.research.google.com/assets/colab-badge.svg\" alt=\"Open In Colab\"/></a>"
      ]
    },
    {
      "cell_type": "code",
      "metadata": {
        "id": "-nPvf3b0JLLI",
        "colab_type": "code",
        "colab": {
          "base_uri": "https://localhost:8080/",
          "height": 266
        },
        "outputId": "bc154193-e167-4ca3-8ad5-cb72c272ba88"
      },
      "source": [
        "# https://pythondatascience.plavox.info/scikit-learn/%E7%B7%9A%E5%BD%A2%E5%9B%9E%E5%B8%B0\n",
        "\n",
        "import pandas as pd\n",
        "import numpy as np\n",
        " \n",
        "wine = pd.read_csv(\"/content/drive/My Drive/Colab Notebooks/winequality-red.csv\", sep=\";\")\n",
        "wine.head"
      ],
      "execution_count": 2,
      "outputs": [
        {
          "output_type": "execute_result",
          "data": {
            "text/plain": [
              "<bound method NDFrame.head of       fixed acidity  volatile acidity  citric acid  ...  sulphates  alcohol  quality\n",
              "0               7.4             0.700         0.00  ...       0.56      9.4        5\n",
              "1               7.8             0.880         0.00  ...       0.68      9.8        5\n",
              "2               7.8             0.760         0.04  ...       0.65      9.8        5\n",
              "3              11.2             0.280         0.56  ...       0.58      9.8        6\n",
              "4               7.4             0.700         0.00  ...       0.56      9.4        5\n",
              "...             ...               ...          ...  ...        ...      ...      ...\n",
              "1594            6.2             0.600         0.08  ...       0.58     10.5        5\n",
              "1595            5.9             0.550         0.10  ...       0.76     11.2        6\n",
              "1596            6.3             0.510         0.13  ...       0.75     11.0        6\n",
              "1597            5.9             0.645         0.12  ...       0.71     10.2        5\n",
              "1598            6.0             0.310         0.47  ...       0.66     11.0        6\n",
              "\n",
              "[1599 rows x 12 columns]>"
            ]
          },
          "metadata": {
            "tags": []
          },
          "execution_count": 2
        }
      ]
    },
    {
      "cell_type": "markdown",
      "metadata": {
        "id": "aB5EcWBZLenv",
        "colab_type": "text"
      },
      "source": [
        "## 単回帰分析"
      ]
    },
    {
      "cell_type": "code",
      "metadata": {
        "id": "a9tX6RkKKb0F",
        "colab_type": "code",
        "colab": {
          "base_uri": "https://localhost:8080/",
          "height": 88
        },
        "outputId": "f8ad3085-0741-4de9-8941-a93078c18737"
      },
      "source": [
        "# sklearn.linear_model.LinearRegression クラスを読み込み\n",
        "from sklearn import linear_model\n",
        "clf = linear_model.LinearRegression()\n",
        " \n",
        "# 説明変数に \"density (濃度)\" を利用\n",
        "# clfに渡すため、データフレームをarrayに変換する\n",
        "X = wine.loc[:, ['density']].values\n",
        " \n",
        "# 目的変数に \"alcohol (アルコール度数)\" を利用\n",
        "Y = wine['alcohol'].values\n",
        " \n",
        "# 予測モデルを作成\n",
        "clf.fit(X, Y)\n",
        " \n",
        "# 回帰係数\n",
        "print(clf.coef_)\n",
        " \n",
        "# 切片 (誤差)\n",
        "print(clf.intercept_)\n",
        " \n",
        "# 決定係数\n",
        "print(clf.score(X, Y))\n",
        "\n",
        "# 得られた回帰式\n",
        "# [alcohol] = -280.16382307 × [density] + 289.675343383"
      ],
      "execution_count": 18,
      "outputs": [
        {
          "output_type": "stream",
          "text": [
            "[-280.16382307]\n",
            "289.67534338256456\n",
            "0.2461943643971065\n",
            "0.2461943643971065\n"
          ],
          "name": "stdout"
        }
      ]
    },
    {
      "cell_type": "code",
      "metadata": {
        "id": "-OmUrRfELNtm",
        "colab_type": "code",
        "colab": {
          "base_uri": "https://localhost:8080/",
          "height": 283
        },
        "outputId": "b7b8b4b2-419f-4082-fb3a-e8f19ae3e3b0"
      },
      "source": [
        "import matplotlib.pyplot as plt\n",
        " \n",
        "# 散布図\n",
        "plt.scatter(X, Y)\n",
        " \n",
        "# 回帰直線\n",
        "plt.plot(X, clf.predict(X))\n"
      ],
      "execution_count": 7,
      "outputs": [
        {
          "output_type": "execute_result",
          "data": {
            "text/plain": [
              "[<matplotlib.lines.Line2D at 0x7fa40cfc56a0>]"
            ]
          },
          "metadata": {
            "tags": []
          },
          "execution_count": 7
        },
        {
          "output_type": "display_data",
          "data": {
            "image/png": "[encoded data removed]",
            "text/plain": [
              "<Figure size 432x288 with 1 Axes>"
            ]
          },
          "metadata": {
            "tags": [],
            "needs_background": "light"
          }
        }
      ]
    },
    {
      "cell_type": "markdown",
      "metadata": {
        "id": "RZsMDlUrL51z",
        "colab_type": "text"
      },
      "source": [
        "## 重回帰分析"
      ]
    },
    {
      "cell_type": "code",
      "metadata": {
        "id": "6SrM0FTlL1Ad",
        "colab_type": "code",
        "colab": {
          "base_uri": "https://localhost:8080/",
          "height": 266
        },
        "outputId": "d0e0e76a-f377-4f4c-cecd-540afd4a8058"
      },
      "source": [
        "from sklearn import linear_model\n",
        "clf = linear_model.LinearRegression()\n",
        " \n",
        "# 説明変数に \"quality (品質スコア以外すべて)\" を利用\n",
        "wine_except_quality = wine.drop(\"quality\", axis=1)\n",
        "X = wine_except_quality.values\n",
        " \n",
        "# 目的変数に \"quality (品質スコア)\" を利用\n",
        "Y = wine['quality'].values\n",
        " \n",
        "# 予測モデルを作成\n",
        "clf.fit(X, Y)\n",
        " \n",
        "# 偏回帰係数\n",
        "print(pd.DataFrame({\"Name\":wine_except_quality.columns,\n",
        "                    \"Coefficients\":clf.coef_}).sort_values(by='Coefficients') )\n",
        " \n",
        "# 切片 (誤差)\n",
        "print(clf.intercept_)\n",
        "\n",
        "# 決定係数\n",
        "print(clf.score(X,Y))\n",
        "\n",
        "# 得られた回帰式\n",
        "# [quality] = -17.881164 × [density] + -1.874225 × [chlorides] +\n",
        "#             -1.083590 × [volatile acidity] + -0.413653 × [pH] + \n",
        "#             -0.182564 × [citric acid] + -0.003265 × [total sulfur dioxide] + \n",
        "#             0.004361 × [free sulfur dioxide] + 0.016331 × [residual sugar] + \n",
        "#             0.024991 × [fixed acidity] + 0.276198 × [alcohol] + \n",
        "#             0.916334 × [sulphates] + 21.9652084495"
      ],
      "execution_count": 17,
      "outputs": [
        {
          "output_type": "stream",
          "text": [
            "                    Name  Coefficients\n",
            "7                density    -17.881164\n",
            "4              chlorides     -1.874225\n",
            "1       volatile acidity     -1.083590\n",
            "8                     pH     -0.413653\n",
            "2            citric acid     -0.182564\n",
            "6   total sulfur dioxide     -0.003265\n",
            "5    free sulfur dioxide      0.004361\n",
            "3         residual sugar      0.016331\n",
            "0          fixed acidity      0.024991\n",
            "10               alcohol      0.276198\n",
            "9              sulphates      0.916334\n",
            "21.965208449451815\n",
            "0.36055170303868833\n"
          ],
          "name": "stdout"
        }
      ]
    },
    {
      "cell_type": "markdown",
      "metadata": {
        "id": "UMrCjn5-PL5E",
        "colab_type": "text"
      },
      "source": [
        "## 重回帰分析（正規化あり）"
      ]
    },
    {
      "cell_type": "code",
      "metadata": {
        "id": "OXYSaQXWNnJj",
        "colab_type": "code",
        "colab": {
          "base_uri": "https://localhost:8080/",
          "height": 266
        },
        "outputId": "a25e86be-cf58-4516-fa2e-2698a5b22848"
      },
      "source": [
        "from sklearn import linear_model\n",
        "clf = linear_model.LinearRegression()\n",
        " \n",
        "# データフレームの各列を正規化\n",
        "wine2 = wine.apply(lambda x: (x - np.mean(x)) / (np.max(x) - np.min(x)))\n",
        "wine2.head()\n",
        " \n",
        "# 説明変数に \"quality (品質スコア以外すべて)\" を利用\n",
        "wine2_except_quality = wine2.drop(\"quality\", axis=1)\n",
        "X = wine2_except_quality.values\n",
        " \n",
        "# 目的変数に \"quality (品質スコア)\" を利用\n",
        "Y = wine2['quality'].values\n",
        " \n",
        "# 予測モデルを作成\n",
        "clf.fit(X, Y)\n",
        " \n",
        "# 偏回帰係数\n",
        "print(pd.DataFrame({\"Name\":wine2_except_quality.columns,\n",
        "                    \"Coefficients\":np.abs(clf.coef_)}).sort_values(by='Coefficients') )\n",
        " \n",
        "# 切片 (誤差)\n",
        "print(clf.intercept_)\n",
        "\n",
        "# 決定係数\n",
        "print(clf.score(X,Y))"
      ],
      "execution_count": 19,
      "outputs": [
        {
          "output_type": "stream",
          "text": [
            "                    Name  Coefficients\n",
            "2            citric acid      0.036513\n",
            "3         residual sugar      0.047687\n",
            "7                density      0.048708\n",
            "0          fixed acidity      0.056479\n",
            "5    free sulfur dioxide      0.061931\n",
            "8                     pH      0.105068\n",
            "6   total sulfur dioxide      0.184775\n",
            "4              chlorides      0.224532\n",
            "9              sulphates      0.306056\n",
            "1       volatile acidity      0.316408\n",
            "10               alcohol      0.359057\n",
            "1.2701558656451015e-15\n",
            "0.3605517030386882\n"
          ],
          "name": "stdout"
        }
      ]
    },
    {
      "cell_type": "markdown",
      "metadata": {
        "id": "adS8qgw9THzB",
        "colab_type": "text"
      },
      "source": [
        "## 回帰式の評価"
      ]
    },
    {
      "cell_type": "code",
      "metadata": {
        "id": "ozapZbHgP32q",
        "colab_type": "code",
        "colab": {
          "base_uri": "https://localhost:8080/",
          "height": 239
        },
        "outputId": "b1f02b5f-faf1-48fe-9ccd-904082fa7ad7"
      },
      "source": [
        "from sklearn.metrics import r2_score\n",
        "y_true = [3, -0.5, 2, 7]\n",
        "y_pred = [2.5, 0.0, 2, 8]\n",
        "r2_score(y_true, y_pred) "
      ],
      "execution_count": 14,
      "outputs": [
        {
          "output_type": "error",
          "ename": "NameError",
          "evalue": "ignored",
          "traceback": [
            "\u001b[0;31m---------------------------------------------------------------------------\u001b[0m",
            "\u001b[0;31mNameError\u001b[0m                                 Traceback (most recent call last)",
            "\u001b[0;32m<ipython-input-14-51391d5987e5>\u001b[0m in \u001b[0;36m<module>\u001b[0;34m()\u001b[0m\n\u001b[1;32m      1\u001b[0m \u001b[0;32mimport\u001b[0m \u001b[0mstatsmodels\u001b[0m\u001b[0;34m.\u001b[0m\u001b[0mapi\u001b[0m \u001b[0;32mas\u001b[0m \u001b[0msm\u001b[0m\u001b[0;34m\u001b[0m\u001b[0;34m\u001b[0m\u001b[0m\n\u001b[1;32m      2\u001b[0m \u001b[0;34m\u001b[0m\u001b[0m\n\u001b[0;32m----> 3\u001b[0;31m \u001b[0mx_add_const\u001b[0m \u001b[0;34m=\u001b[0m \u001b[0msm\u001b[0m\u001b[0;34m.\u001b[0m\u001b[0madd_constant\u001b[0m\u001b[0;34m(\u001b[0m\u001b[0mxss_sk\u001b[0m\u001b[0;34m)\u001b[0m\u001b[0;34m\u001b[0m\u001b[0;34m\u001b[0m\u001b[0m\n\u001b[0m\u001b[1;32m      4\u001b[0m \u001b[0mmodel_sm\u001b[0m \u001b[0;34m=\u001b[0m \u001b[0msm\u001b[0m\u001b[0;34m.\u001b[0m\u001b[0mOLS\u001b[0m\u001b[0;34m(\u001b[0m\u001b[0myss_sk\u001b[0m\u001b[0;34m,\u001b[0m \u001b[0mx_add_const\u001b[0m\u001b[0;34m)\u001b[0m\u001b[0;34m.\u001b[0m\u001b[0mfit\u001b[0m\u001b[0;34m(\u001b[0m\u001b[0;34m)\u001b[0m\u001b[0;34m\u001b[0m\u001b[0;34m\u001b[0m\u001b[0m\n\u001b[1;32m      5\u001b[0m \u001b[0mprint\u001b[0m\u001b[0;34m(\u001b[0m\u001b[0mmodel_sm\u001b[0m\u001b[0;34m.\u001b[0m\u001b[0msummary\u001b[0m\u001b[0;34m(\u001b[0m\u001b[0;34m)\u001b[0m\u001b[0;34m)\u001b[0m\u001b[0;34m\u001b[0m\u001b[0;34m\u001b[0m\u001b[0m\n",
            "\u001b[0;31mNameError\u001b[0m: name 'xss_sk' is not defined"
          ]
        }
      ]
    }
  ]
}
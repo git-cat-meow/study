{
  "nbformat": 4,
  "nbformat_minor": 0,
  "metadata": {
    "colab": {
      "name": "cheat_sheet",
      "provenance": [],
      "collapsed_sections": [],
      "authorship_tag": "ABX9TyMkX6ksl5btMhf75UgdD6CT",
      "include_colab_link": true
    },
    "kernelspec": {
      "name": "python3",
      "display_name": "Python 3"
    }
  },
  "cells": [
    {
      "cell_type": "markdown",
      "metadata": {
        "id": "view-in-github",
        "colab_type": "text"
      },
      "source": [
        "<a href=\"https://colab.research.google.com/github/git-cat-meow/study/blob/master/cheat_sheet.ipynb\" target=\"_parent\"><img src=\"https://colab.research.google.com/assets/colab-badge.svg\" alt=\"Open In Colab\"/></a>"
      ]
    },
    {
      "cell_type": "markdown",
      "metadata": {
        "id": "Z08Y2k-rjYUQ",
        "colab_type": "text"
      },
      "source": [
        "# 抽出"
      ]
    },
    {
      "cell_type": "code",
      "metadata": {
        "id": "-w2mvW_XQxj9",
        "colab_type": "code",
        "colab": {}
      },
      "source": [
        "# 特定の列だけを出力\n",
        "# ネストさせるのがポイント\n",
        "df[['a', 'b', 'c']]\n",
        "\n",
        "# 応用例\n",
        "join_data = pd.merge(transaction_detail, transaction[['transaction_id', \"payment_date\", \"customer_id\"]], on=\"transaction_id\", how=\"left\")\n",
        "\n",
        "# sum()の後に出力列を絞ることもできる\n",
        "join_data.groupby(['payment_month','item_name']).sum()[['price','quantity']]\n",
        "customer_join.groupby('class_name').count()['customer_id']\n",
        "# -> sumやcount関数の後につなげる（引数ではない）\n",
        "\n",
        "# 応用例\n",
        "# 30歳未満のユーザかどうか→Trueの数を数える＝ユーザ数\n",
        "join_data['age']<30).sum()\n",
        "\n"
      ],
      "execution_count": null,
      "outputs": []
    },
    {
      "cell_type": "markdown",
      "metadata": {
        "id": "Uc8RY3gPsdq3",
        "colab_type": "text"
      },
      "source": [
        "# pivot_table\n"
      ]
    },
    {
      "cell_type": "code",
      "metadata": {
        "id": "0r3LIgVyshNp",
        "colab_type": "code",
        "colab": {}
      },
      "source": [
        "# 基本の使い方\n",
        "pd.pivot_table(join_data, index='item_name', columns='payment_month', values=['price', 'quantity'], aggfunc='sum')\n",
        "\n",
        "# index='行見出し'\n",
        "# columuns='列見出し'\n",
        "# values='集計列' -> 複数の場合はリストで渡す ['A', 'B']"
      ],
      "execution_count": null,
      "outputs": []
    },
    {
      "cell_type": "markdown",
      "metadata": {
        "id": "oIXPxjV3w_Li",
        "colab_type": "text"
      },
      "source": [
        "# プロット\n"
      ]
    },
    {
      "cell_type": "code",
      "metadata": {
        "id": "BqbxCgxYw-Ol",
        "colab_type": "code",
        "colab": {}
      },
      "source": [
        "# plt使ったグラフ化\n",
        "import matplotlib.pyplot as plt\n",
        "%matplotlib inline\n",
        "\n",
        "plt.plot(list(graph_data.index), graph_data['PC-A'], label='PC-A')\n",
        "plt.plot(list(graph_data.index), graph_data['PC-B'], label='PC-B')\n",
        "\n",
        "# plot(x軸, Y軸)は必須。いずれもリスト型で渡す。\n",
        "# このケースだと、インデックスをリスト化してX軸に指定。カラムを抽出してY軸に指定\n",
        "# ラベルは個別に指定してあげないと駄目"
      ],
      "execution_count": null,
      "outputs": []
    },
    {
      "cell_type": "markdown",
      "metadata": {
        "id": "lUAOcAjejxtw",
        "colab_type": "text"
      },
      "source": [
        "# カウント・計測"
      ]
    },
    {
      "cell_type": "code",
      "metadata": {
        "id": "0QvlqTeQjXDK",
        "colab_type": "code",
        "colab": {}
      },
      "source": [
        "# sum()はboolianの場合はTrueの数を出す\n",
        "# 数値型を対象にした時と挙動が変わる\n",
        "join_data.isnull().sum()\n",
        "-> nullの数を合計する（値はboolianなので数値集計ではない）"
      ],
      "execution_count": null,
      "outputs": []
    },
    {
      "cell_type": "markdown",
      "metadata": {
        "id": "4-2prQ6Yj-O0",
        "colab_type": "text"
      },
      "source": [
        "# 時系列データ"
      ]
    },
    {
      "cell_type": "code",
      "metadata": {
        "id": "eYlg4OQYkBh1",
        "colab_type": "code",
        "colab": {}
      },
      "source": [
        "# min, maxを使った時系列データの抽出\n",
        "# datetime型にしなくても、ソートはできる\n",
        "print(join_data['payment_date'].dtype) # object\n",
        "print(join_data['payment_date'].min())\n",
        "print(join_data['payment_date'].max())\n",
        "\n",
        "# loc関数に列のリストを渡すと、行の参照が可能\n",
        "# https://note.nkmk.me/python-pandas-at-iat-loc-iloc/\n",
        "# 比較演算子でdatetime化したテキストを使って比較。該当するデータを抽出する\n",
        "customer_start = customer_join.loc[customer_join['start_date'] > pd.to_datetime('20180401')] # customer_join['start_date']はdatetime済"
      ],
      "execution_count": null,
      "outputs": []
    },
    {
      "cell_type": "markdown",
      "metadata": {
        "id": "pDO26WTypIXs",
        "colab_type": "text"
      },
      "source": [
        "# concat"
      ]
    },
    {
      "cell_type": "code",
      "metadata": {
        "id": "SiwaFyTgpI6d",
        "colab_type": "code",
        "colab": {}
      },
      "source": [
        "# indexになるとややこしいのでそのままにするのがコツ\n",
        "pd.concat([transaction_1, transaction_2], ignore_index=True)"
      ],
      "execution_count": null,
      "outputs": []
    },
    {
      "cell_type": "markdown",
      "metadata": {
        "id": "Q1AZ6D96jljT",
        "colab_type": "text"
      },
      "source": [
        "# 除去"
      ]
    },
    {
      "cell_type": "code",
      "metadata": {
        "id": "PIqIAas4jmGv",
        "colab_type": "code",
        "colab": {}
      },
      "source": [
        "# 列を消すだけならdelが早い\n",
        "del df['usedate'] -> df.drop(\"usedate\", axis=1)\n",
        "\n",
        "# 行を消す\n",
        "df.drop(5) # 5行目を消す\n",
        "df.drop([3,4]) # 3, 4行目を消す"
      ],
      "execution_count": null,
      "outputs": []
    },
    {
      "cell_type": "markdown",
      "metadata": {
        "id": "GCwrzRiS0zEC",
        "colab_type": "text"
      },
      "source": [
        "# groupby"
      ]
    },
    {
      "cell_type": "code",
      "metadata": {
        "id": "Bvh9Enzl0xbo",
        "colab_type": "code",
        "colab": {}
      },
      "source": [
        "# 基本的に, as_index=Falseはつけておくと吉\n",
        "df.groupby(['年月','customer_id'], as_index=False).count()\n",
        "\n",
        "# sum()の後に出力列を絞ることもできる\n",
        "join_data.groupby(['payment_month','item_name']).sum()[['price','quantity']]\n",
        "customer_join.groupby('class_name').count()['customer_id']\n",
        "# -> sumやcount関数の後につなげる（引数ではない）\n",
        "\n",
        "# aggは便利。適用した関数の名称がそのまま出力される\n",
        "uselog_month.groupby('customer_id').agg(['mean', 'median', 'max', 'min'])"
      ],
      "execution_count": null,
      "outputs": []
    },
    {
      "cell_type": "markdown",
      "metadata": {
        "id": "SGLzYdREovXQ",
        "colab_type": "text"
      },
      "source": [
        "# rename"
      ]
    },
    {
      "cell_type": "code",
      "metadata": {
        "id": "4inpZbrLow_Y",
        "colab_type": "code",
        "colab": {}
      },
      "source": [
        "# 辞書式が楽\n",
        "df.rename(columns={'log_id':'count'}, inplace=True)"
      ],
      "execution_count": null,
      "outputs": []
    }
  ]
}
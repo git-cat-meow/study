{
  "nbformat": 4,
  "nbformat_minor": 0,
  "metadata": {
    "colab": {
      "name": "cheat_sheet.ipynb",
      "provenance": [],
      "authorship_tag": "ABX9TyN0T2gPYF8Jl3bsPfTVgJjJ",
      "include_colab_link": true
    },
    "kernelspec": {
      "name": "python3",
      "display_name": "Python 3"
    }
  },
  "cells": [
    {
      "cell_type": "markdown",
      "metadata": {
        "id": "view-in-github",
        "colab_type": "text"
      },
      "source": [
        "<a href=\"https://colab.research.google.com/github/git-cat-meow/study/blob/master/cheat_sheet.ipynb\" target=\"_parent\"><img src=\"https://colab.research.google.com/assets/colab-badge.svg\" alt=\"Open In Colab\"/></a>"
      ]
    },
    {
      "cell_type": "code",
      "metadata": {
        "id": "-w2mvW_XQxj9",
        "colab_type": "code",
        "colab": {}
      },
      "source": [
        "# 特定の列だけを出力\n",
        "# ネストさせるのがポイント\n",
        "df[['a', 'b', 'c']]"
      ],
      "execution_count": null,
      "outputs": []
    }
  ]
}